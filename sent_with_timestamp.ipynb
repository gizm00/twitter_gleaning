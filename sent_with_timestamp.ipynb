{
 "metadata": {
  "name": "",
  "signature": "sha256:667c7663002ac0fdf3109478a8c5e2cb52b5a82047f528aae5e01bb9adbef9a3"
 },
 "nbformat": 3,
 "nbformat_minor": 0,
 "worksheets": [
  {
   "cells": [
    {
     "cell_type": "code",
     "collapsed": false,
     "input": [
      "import pandas as pd\n",
      "import nltk\n",
      "nltk.download()\n",
      "from nltk.corpus import stopwords\n"
     ],
     "language": "python",
     "metadata": {},
     "outputs": [],
     "prompt_number": 9
    },
    {
     "cell_type": "code",
     "collapsed": false,
     "input": [
      "dataraw = pd.read_csv('cxnats_tweets_ts.csv')\n",
      "sentiment = pd.read_table('AFINN-111.txt', header=None, index_col=0, names=['word', 'value'])"
     ],
     "language": "python",
     "metadata": {},
     "outputs": [
      {
       "output_type": "stream",
       "stream": "stdout",
       "text": [
        "showing info http://nltk.github.com/nltk_data/\n"
       ]
      }
     ],
     "prompt_number": 2
    },
    {
     "cell_type": "code",
     "collapsed": false,
     "input": [
      "dataraw.head()"
     ],
     "language": "python",
     "metadata": {},
     "outputs": [
      {
       "output_type": "stream",
       "stream": "stdout",
       "text": [
        "ERROR! Session/line number was not unique in database. History logging moved to new session 30\n"
       ]
      },
      {
       "html": [
        "<div style=\"max-height:1000px;max-width:1500px;overflow:auto;\">\n",
        "<table border=\"1\" class=\"dataframe\">\n",
        "  <thead>\n",
        "    <tr style=\"text-align: right;\">\n",
        "      <th></th>\n",
        "      <th>id</th>\n",
        "      <th>text</th>\n",
        "      <th>timestamp</th>\n",
        "      <th>num_retweets</th>\n",
        "    </tr>\n",
        "  </thead>\n",
        "  <tbody>\n",
        "    <tr>\n",
        "      <th>0</th>\n",
        "      <td> 554383540520243200</td>\n",
        "      <td> Lance Armstrong bood net een slaapkamer aan vo...</td>\n",
        "      <td> 2015-01-11 21:05:10</td>\n",
        "      <td>  0</td>\n",
        "    </tr>\n",
        "    <tr>\n",
        "      <th>1</th>\n",
        "      <td> 554383534710722560</td>\n",
        "      <td> RT @Ahaley: Sorry guys the city closed the air...</td>\n",
        "      <td> 2015-01-11 21:05:09</td>\n",
        "      <td> 26</td>\n",
        "    </tr>\n",
        "    <tr>\n",
        "      <th>2</th>\n",
        "      <td> 554383514326425601</td>\n",
        "      <td> RT @brandonjdwight: How much did the #CXNats p...</td>\n",
        "      <td> 2015-01-11 21:05:04</td>\n",
        "      <td>  6</td>\n",
        "    </tr>\n",
        "    <tr>\n",
        "      <th>3</th>\n",
        "      <td> 554383479786725377</td>\n",
        "      <td> RT @RealSteveBeam: Reason 2345542 I love @BSS_...</td>\n",
        "      <td> 2015-01-11 21:04:56</td>\n",
        "      <td>  1</td>\n",
        "    </tr>\n",
        "    <tr>\n",
        "      <th>4</th>\n",
        "      <td> 554383478423552001</td>\n",
        "      <td> @cyclocross @pelotonmagazine @nealrogers Its a...</td>\n",
        "      <td> 2015-01-11 21:04:55</td>\n",
        "      <td>  0</td>\n",
        "    </tr>\n",
        "  </tbody>\n",
        "</table>\n",
        "</div>"
       ],
       "metadata": {},
       "output_type": "pyout",
       "prompt_number": 3,
       "text": [
        "                   id                                               text  \\\n",
        "0  554383540520243200  Lance Armstrong bood net een slaapkamer aan vo...   \n",
        "1  554383534710722560  RT @Ahaley: Sorry guys the city closed the air...   \n",
        "2  554383514326425601  RT @brandonjdwight: How much did the #CXNats p...   \n",
        "3  554383479786725377  RT @RealSteveBeam: Reason 2345542 I love @BSS_...   \n",
        "4  554383478423552001  @cyclocross @pelotonmagazine @nealrogers Its a...   \n",
        "\n",
        "             timestamp  num_retweets  \n",
        "0  2015-01-11 21:05:10             0  \n",
        "1  2015-01-11 21:05:09            26  \n",
        "2  2015-01-11 21:05:04             6  \n",
        "3  2015-01-11 21:04:56             1  \n",
        "4  2015-01-11 21:04:55             0  "
       ]
      }
     ],
     "prompt_number": 3
    },
    {
     "cell_type": "code",
     "collapsed": false,
     "input": [
      "sentiment.head()"
     ],
     "language": "python",
     "metadata": {},
     "outputs": [
      {
       "html": [
        "<div style=\"max-height:1000px;max-width:1500px;overflow:auto;\">\n",
        "<table border=\"1\" class=\"dataframe\">\n",
        "  <thead>\n",
        "    <tr style=\"text-align: right;\">\n",
        "      <th></th>\n",
        "      <th>value</th>\n",
        "    </tr>\n",
        "    <tr>\n",
        "      <th>word</th>\n",
        "      <th></th>\n",
        "    </tr>\n",
        "  </thead>\n",
        "  <tbody>\n",
        "    <tr>\n",
        "      <th>abandon</th>\n",
        "      <td>-2</td>\n",
        "    </tr>\n",
        "    <tr>\n",
        "      <th>abandoned</th>\n",
        "      <td>-2</td>\n",
        "    </tr>\n",
        "    <tr>\n",
        "      <th>abandons</th>\n",
        "      <td>-2</td>\n",
        "    </tr>\n",
        "    <tr>\n",
        "      <th>abducted</th>\n",
        "      <td>-2</td>\n",
        "    </tr>\n",
        "    <tr>\n",
        "      <th>abduction</th>\n",
        "      <td>-2</td>\n",
        "    </tr>\n",
        "  </tbody>\n",
        "</table>\n",
        "</div>"
       ],
       "metadata": {},
       "output_type": "pyout",
       "prompt_number": 61,
       "text": [
        "           value\n",
        "word            \n",
        "abandon       -2\n",
        "abandoned     -2\n",
        "abandons      -2\n",
        "abducted      -2\n",
        "abduction     -2"
       ]
      }
     ],
     "prompt_number": 61
    },
    {
     "cell_type": "code",
     "collapsed": false,
     "input": [
      "def GetStopWords(text) :\n",
      "    return [w for w in text.split() if not w.lower() in stopwords.words('english')]\n"
     ],
     "language": "python",
     "metadata": {},
     "outputs": [],
     "prompt_number": 10
    },
    {
     "cell_type": "code",
     "collapsed": false,
     "input": [
      "def ScoreSentiment(wordlist) :\n",
      "    # return the sum of sentiment values (col[1]) for each word in the wordlist if it is in sentiment\n",
      "    return sum([sentiment.loc[w.lower()] for w in wordlist if w.lower() in sentiment.index])"
     ],
     "language": "python",
     "metadata": {},
     "outputs": [],
     "prompt_number": 11
    },
    {
     "cell_type": "code",
     "collapsed": false,
     "input": [
      "filtered_words = dataraw['text'].apply(GetStopWords)"
     ],
     "language": "python",
     "metadata": {},
     "outputs": [
      {
       "output_type": "stream",
       "stream": "stderr",
       "text": [
        "-c:2: UnicodeWarning: Unicode equal comparison failed to convert both arguments to Unicode - interpreting them as being unequal\n"
       ]
      }
     ],
     "prompt_number": 12
    },
    {
     "cell_type": "code",
     "collapsed": false,
     "input": [
      "test = filtered_words.loc[1]\n",
      "test"
     ],
     "language": "python",
     "metadata": {},
     "outputs": [
      {
       "metadata": {},
       "output_type": "pyout",
       "prompt_number": 13,
       "text": [
        "['RT',\n",
        " '@Ahaley:',\n",
        " 'Sorry',\n",
        " 'guys',\n",
        " 'city',\n",
        " 'closed',\n",
        " 'airport',\n",
        " 'roads',\n",
        " 'outa',\n",
        " 'town',\n",
        " 'live',\n",
        " 'now.',\n",
        " '#cxnats',\n",
        " '#AustinCX15']"
       ]
      }
     ],
     "prompt_number": 13
    },
    {
     "cell_type": "code",
     "collapsed": false,
     "input": [
      "res = ScoreSentiment(test)\n",
      "res"
     ],
     "language": "python",
     "metadata": {},
     "outputs": [
      {
       "metadata": {},
       "output_type": "pyout",
       "prompt_number": 14,
       "text": [
        "-1"
       ]
      }
     ],
     "prompt_number": 14
    },
    {
     "cell_type": "code",
     "collapsed": false,
     "input": [
      "scores = pd.DataFrame(filtered_words.apply(ScoreSentiment))"
     ],
     "language": "python",
     "metadata": {},
     "outputs": [],
     "prompt_number": 15
    },
    {
     "cell_type": "code",
     "collapsed": false,
     "input": [
      "scores.columns = ['values']\n",
      "scores.head()"
     ],
     "language": "python",
     "metadata": {},
     "outputs": [
      {
       "html": [
        "<div style=\"max-height:1000px;max-width:1500px;overflow:auto;\">\n",
        "<table border=\"1\" class=\"dataframe\">\n",
        "  <thead>\n",
        "    <tr style=\"text-align: right;\">\n",
        "      <th></th>\n",
        "      <th>values</th>\n",
        "    </tr>\n",
        "  </thead>\n",
        "  <tbody>\n",
        "    <tr>\n",
        "      <th>0</th>\n",
        "      <td> 0</td>\n",
        "    </tr>\n",
        "    <tr>\n",
        "      <th>1</th>\n",
        "      <td>-1</td>\n",
        "    </tr>\n",
        "    <tr>\n",
        "      <th>2</th>\n",
        "      <td> 0</td>\n",
        "    </tr>\n",
        "    <tr>\n",
        "      <th>3</th>\n",
        "      <td> 4</td>\n",
        "    </tr>\n",
        "    <tr>\n",
        "      <th>4</th>\n",
        "      <td> 0</td>\n",
        "    </tr>\n",
        "  </tbody>\n",
        "</table>\n",
        "</div>"
       ],
       "metadata": {},
       "output_type": "pyout",
       "prompt_number": 16,
       "text": [
        "   values\n",
        "0       0\n",
        "1      -1\n",
        "2       0\n",
        "3       4\n",
        "4       0"
       ]
      }
     ],
     "prompt_number": 16
    },
    {
     "cell_type": "code",
     "collapsed": false,
     "input": [
      "scored_tweets = pd.concat([dataraw[1:], scores[1:]], axis=1)"
     ],
     "language": "python",
     "metadata": {},
     "outputs": [],
     "prompt_number": 17
    },
    {
     "cell_type": "code",
     "collapsed": false,
     "input": [
      "scored_tweets.head()"
     ],
     "language": "python",
     "metadata": {},
     "outputs": [
      {
       "html": [
        "<div style=\"max-height:1000px;max-width:1500px;overflow:auto;\">\n",
        "<table border=\"1\" class=\"dataframe\">\n",
        "  <thead>\n",
        "    <tr style=\"text-align: right;\">\n",
        "      <th></th>\n",
        "      <th>id</th>\n",
        "      <th>text</th>\n",
        "      <th>timestamp</th>\n",
        "      <th>num_retweets</th>\n",
        "      <th>values</th>\n",
        "    </tr>\n",
        "  </thead>\n",
        "  <tbody>\n",
        "    <tr>\n",
        "      <th>1</th>\n",
        "      <td> 554383534710722560</td>\n",
        "      <td> RT @Ahaley: Sorry guys the city closed the air...</td>\n",
        "      <td> 2015-01-11 21:05:09</td>\n",
        "      <td> 26</td>\n",
        "      <td>-1</td>\n",
        "    </tr>\n",
        "    <tr>\n",
        "      <th>2</th>\n",
        "      <td> 554383514326425601</td>\n",
        "      <td> RT @brandonjdwight: How much did the #CXNats p...</td>\n",
        "      <td> 2015-01-11 21:05:04</td>\n",
        "      <td>  6</td>\n",
        "      <td> 0</td>\n",
        "    </tr>\n",
        "    <tr>\n",
        "      <th>3</th>\n",
        "      <td> 554383479786725377</td>\n",
        "      <td> RT @RealSteveBeam: Reason 2345542 I love @BSS_...</td>\n",
        "      <td> 2015-01-11 21:04:56</td>\n",
        "      <td>  1</td>\n",
        "      <td> 4</td>\n",
        "    </tr>\n",
        "    <tr>\n",
        "      <th>4</th>\n",
        "      <td> 554383478423552001</td>\n",
        "      <td> @cyclocross @pelotonmagazine @nealrogers Its a...</td>\n",
        "      <td> 2015-01-11 21:04:55</td>\n",
        "      <td>  0</td>\n",
        "      <td> 0</td>\n",
        "    </tr>\n",
        "    <tr>\n",
        "      <th>5</th>\n",
        "      <td> 554383476771028993</td>\n",
        "      <td> Ya cant plant Nats it needs to grow locally. #...</td>\n",
        "      <td> 2015-01-11 21:04:55</td>\n",
        "      <td>  0</td>\n",
        "      <td> 0</td>\n",
        "    </tr>\n",
        "  </tbody>\n",
        "</table>\n",
        "</div>"
       ],
       "metadata": {},
       "output_type": "pyout",
       "prompt_number": 18,
       "text": [
        "                   id                                               text  \\\n",
        "1  554383534710722560  RT @Ahaley: Sorry guys the city closed the air...   \n",
        "2  554383514326425601  RT @brandonjdwight: How much did the #CXNats p...   \n",
        "3  554383479786725377  RT @RealSteveBeam: Reason 2345542 I love @BSS_...   \n",
        "4  554383478423552001  @cyclocross @pelotonmagazine @nealrogers Its a...   \n",
        "5  554383476771028993  Ya cant plant Nats it needs to grow locally. #...   \n",
        "\n",
        "             timestamp  num_retweets  values  \n",
        "1  2015-01-11 21:05:09            26      -1  \n",
        "2  2015-01-11 21:05:04             6       0  \n",
        "3  2015-01-11 21:04:56             1       4  \n",
        "4  2015-01-11 21:04:55             0       0  \n",
        "5  2015-01-11 21:04:55             0       0  "
       ]
      }
     ],
     "prompt_number": 18
    },
    {
     "cell_type": "code",
     "collapsed": false,
     "input": [
      "time_sort = scored_tweets.sort(columns='timestamp', ascending=True)"
     ],
     "language": "python",
     "metadata": {},
     "outputs": [],
     "prompt_number": 20
    },
    {
     "cell_type": "code",
     "collapsed": false,
     "input": [
      "time_sort.head()"
     ],
     "language": "python",
     "metadata": {},
     "outputs": [
      {
       "html": [
        "<div style=\"max-height:1000px;max-width:1500px;overflow:auto;\">\n",
        "<table border=\"1\" class=\"dataframe\">\n",
        "  <thead>\n",
        "    <tr style=\"text-align: right;\">\n",
        "      <th></th>\n",
        "      <th>id</th>\n",
        "      <th>text</th>\n",
        "      <th>timestamp</th>\n",
        "      <th>num_retweets</th>\n",
        "      <th>values</th>\n",
        "    </tr>\n",
        "  </thead>\n",
        "  <tbody>\n",
        "    <tr>\n",
        "      <th>11809</th>\n",
        "      <td> 553750690896437248</td>\n",
        "      <td> RT @VW: Course preview of the 2015 #CXNats tra...</td>\n",
        "      <td> 2015-01-10 03:10:27</td>\n",
        "      <td> 54</td>\n",
        "      <td> 0</td>\n",
        "    </tr>\n",
        "    <tr>\n",
        "      <th>11808</th>\n",
        "      <td> 553750738979926016</td>\n",
        "      <td> Hot dog! @muddylegs take #CXnats win! Can I he...</td>\n",
        "      <td> 2015-01-10 03:10:39</td>\n",
        "      <td>  0</td>\n",
        "      <td> 2</td>\n",
        "    </tr>\n",
        "    <tr>\n",
        "      <th>11807</th>\n",
        "      <td> 553750762040590337</td>\n",
        "      <td> RT @One2Go_Results: 2015 @USACycling Cross Nat...</td>\n",
        "      <td> 2015-01-10 03:10:44</td>\n",
        "      <td>  5</td>\n",
        "      <td> 0</td>\n",
        "    </tr>\n",
        "    <tr>\n",
        "      <th>11806</th>\n",
        "      <td> 553750888410382336</td>\n",
        "      <td> RT @BTBcxTV: Live webcast of @usacycling #CXna...</td>\n",
        "      <td> 2015-01-10 03:11:14</td>\n",
        "      <td> 23</td>\n",
        "      <td> 2</td>\n",
        "    </tr>\n",
        "    <tr>\n",
        "      <th>11805</th>\n",
        "      <td> 553750965703041024</td>\n",
        "      <td> Evening pin up session.  Lots of energy and ex...</td>\n",
        "      <td> 2015-01-10 03:11:33</td>\n",
        "      <td>  3</td>\n",
        "      <td> 3</td>\n",
        "    </tr>\n",
        "  </tbody>\n",
        "</table>\n",
        "</div>"
       ],
       "metadata": {},
       "output_type": "pyout",
       "prompt_number": 22,
       "text": [
        "                       id                                               text  \\\n",
        "11809  553750690896437248  RT @VW: Course preview of the 2015 #CXNats tra...   \n",
        "11808  553750738979926016  Hot dog! @muddylegs take #CXnats win! Can I he...   \n",
        "11807  553750762040590337  RT @One2Go_Results: 2015 @USACycling Cross Nat...   \n",
        "11806  553750888410382336  RT @BTBcxTV: Live webcast of @usacycling #CXna...   \n",
        "11805  553750965703041024  Evening pin up session.  Lots of energy and ex...   \n",
        "\n",
        "                 timestamp  num_retweets  values  \n",
        "11809  2015-01-10 03:10:27            54       0  \n",
        "11808  2015-01-10 03:10:39             0       2  \n",
        "11807  2015-01-10 03:10:44             5       0  \n",
        "11806  2015-01-10 03:11:14            23       2  \n",
        "11805  2015-01-10 03:11:33             3       3  "
       ]
      }
     ],
     "prompt_number": 22
    },
    {
     "cell_type": "code",
     "collapsed": false,
     "input": [
      "time_sort.tail()"
     ],
     "language": "python",
     "metadata": {},
     "outputs": [
      {
       "html": [
        "<div style=\"max-height:1000px;max-width:1500px;overflow:auto;\">\n",
        "<table border=\"1\" class=\"dataframe\">\n",
        "  <thead>\n",
        "    <tr style=\"text-align: right;\">\n",
        "      <th></th>\n",
        "      <th>id</th>\n",
        "      <th>text</th>\n",
        "      <th>timestamp</th>\n",
        "      <th>num_retweets</th>\n",
        "      <th>values</th>\n",
        "    </tr>\n",
        "  </thead>\n",
        "  <tbody>\n",
        "    <tr>\n",
        "      <th>14429</th>\n",
        "      <td> 555062989540577281</td>\n",
        "      <td> Retry: A few photos from #cxnats yesterday. he...</td>\n",
        "      <td> 2015-01-13 18:05:03</td>\n",
        "      <td> 0</td>\n",
        "      <td> 0</td>\n",
        "    </tr>\n",
        "    <tr>\n",
        "      <th>14428</th>\n",
        "      <td> 555063078614622210</td>\n",
        "      <td> The cost of hosting a @usacycling championship...</td>\n",
        "      <td> 2015-01-13 18:05:25</td>\n",
        "      <td> 0</td>\n",
        "      <td> 0</td>\n",
        "    </tr>\n",
        "    <tr>\n",
        "      <th>14427</th>\n",
        "      <td> 555063272680853504</td>\n",
        "      <td> .@JeremyPowers just won a 3rd #cxnats title. R...</td>\n",
        "      <td> 2015-01-13 18:06:11</td>\n",
        "      <td> 0</td>\n",
        "      <td> 3</td>\n",
        "    </tr>\n",
        "    <tr>\n",
        "      <th>14426</th>\n",
        "      <td> 555064111831461888</td>\n",
        "      <td> \u201c@20poundskull: And cameron__beard was happy t...</td>\n",
        "      <td> 2015-01-13 18:09:31</td>\n",
        "      <td> 0</td>\n",
        "      <td> 3</td>\n",
        "    </tr>\n",
        "    <tr>\n",
        "      <th>14425</th>\n",
        "      <td> 555064892802498561</td>\n",
        "      <td> RT @timjohnsoncx: The Mayor of Austin @Adlerfo...</td>\n",
        "      <td> 2015-01-13 18:12:37</td>\n",
        "      <td> 4</td>\n",
        "      <td> 5</td>\n",
        "    </tr>\n",
        "  </tbody>\n",
        "</table>\n",
        "</div>"
       ],
       "metadata": {},
       "output_type": "pyout",
       "prompt_number": 23,
       "text": [
        "                       id                                               text  \\\n",
        "14429  555062989540577281  Retry: A few photos from #cxnats yesterday. he...   \n",
        "14428  555063078614622210  The cost of hosting a @usacycling championship...   \n",
        "14427  555063272680853504  .@JeremyPowers just won a 3rd #cxnats title. R...   \n",
        "14426  555064111831461888  \u201c@20poundskull: And cameron__beard was happy t...   \n",
        "14425  555064892802498561  RT @timjohnsoncx: The Mayor of Austin @Adlerfo...   \n",
        "\n",
        "                 timestamp  num_retweets  values  \n",
        "14429  2015-01-13 18:05:03             0       0  \n",
        "14428  2015-01-13 18:05:25             0       0  \n",
        "14427  2015-01-13 18:06:11             0       3  \n",
        "14426  2015-01-13 18:09:31             0       3  \n",
        "14425  2015-01-13 18:12:37             4       5  "
       ]
      }
     ],
     "prompt_number": 23
    },
    {
     "cell_type": "code",
     "collapsed": false,
     "input": [
      "time_sort.timestamp = time_sort.timestamp.astype('datetime64[ns]')\n",
      "time_sort.dtypes"
     ],
     "language": "python",
     "metadata": {},
     "outputs": [
      {
       "metadata": {},
       "output_type": "pyout",
       "prompt_number": 39,
       "text": [
        "id                       int64\n",
        "text                    object\n",
        "timestamp       datetime64[ns]\n",
        "num_retweets             int64\n",
        "values                 float64\n",
        "dtype: object"
       ]
      }
     ],
     "prompt_number": 39
    },
    {
     "cell_type": "code",
     "collapsed": false,
     "input": [
      "time_sort_day = pd.concat([time_sort, time_sort.timestamp.apply(lambda x: x.day),time_sort.timestamp.apply(lambda y: y.hour)], axis=1)"
     ],
     "language": "python",
     "metadata": {},
     "outputs": [],
     "prompt_number": 93
    },
    {
     "cell_type": "code",
     "collapsed": false,
     "input": [
      "time_sort_day.columns = ['id', 'text','timestamp','num_retweets','values','day','hour']\n",
      "time_sort_day.head()"
     ],
     "language": "python",
     "metadata": {},
     "outputs": [
      {
       "html": [
        "<div style=\"max-height:1000px;max-width:1500px;overflow:auto;\">\n",
        "<table border=\"1\" class=\"dataframe\">\n",
        "  <thead>\n",
        "    <tr style=\"text-align: right;\">\n",
        "      <th></th>\n",
        "      <th>id</th>\n",
        "      <th>text</th>\n",
        "      <th>timestamp</th>\n",
        "      <th>num_retweets</th>\n",
        "      <th>values</th>\n",
        "      <th>day</th>\n",
        "      <th>hour</th>\n",
        "    </tr>\n",
        "  </thead>\n",
        "  <tbody>\n",
        "    <tr>\n",
        "      <th>11809</th>\n",
        "      <td> 553750690896437248</td>\n",
        "      <td> RT @VW: Course preview of the 2015 #CXNats tra...</td>\n",
        "      <td>2015-01-10 11:10:27</td>\n",
        "      <td> 54</td>\n",
        "      <td> 0</td>\n",
        "      <td> 10</td>\n",
        "      <td> 11</td>\n",
        "    </tr>\n",
        "    <tr>\n",
        "      <th>11808</th>\n",
        "      <td> 553750738979926016</td>\n",
        "      <td> Hot dog! @muddylegs take #CXnats win! Can I he...</td>\n",
        "      <td>2015-01-10 11:10:39</td>\n",
        "      <td>  0</td>\n",
        "      <td> 2</td>\n",
        "      <td> 10</td>\n",
        "      <td> 11</td>\n",
        "    </tr>\n",
        "    <tr>\n",
        "      <th>11807</th>\n",
        "      <td> 553750762040590337</td>\n",
        "      <td> RT @One2Go_Results: 2015 @USACycling Cross Nat...</td>\n",
        "      <td>2015-01-10 11:10:44</td>\n",
        "      <td>  5</td>\n",
        "      <td> 0</td>\n",
        "      <td> 10</td>\n",
        "      <td> 11</td>\n",
        "    </tr>\n",
        "    <tr>\n",
        "      <th>11806</th>\n",
        "      <td> 553750888410382336</td>\n",
        "      <td> RT @BTBcxTV: Live webcast of @usacycling #CXna...</td>\n",
        "      <td>2015-01-10 11:11:14</td>\n",
        "      <td> 23</td>\n",
        "      <td> 2</td>\n",
        "      <td> 10</td>\n",
        "      <td> 11</td>\n",
        "    </tr>\n",
        "    <tr>\n",
        "      <th>11805</th>\n",
        "      <td> 553750965703041024</td>\n",
        "      <td> Evening pin up session.  Lots of energy and ex...</td>\n",
        "      <td>2015-01-10 11:11:33</td>\n",
        "      <td>  3</td>\n",
        "      <td> 3</td>\n",
        "      <td> 10</td>\n",
        "      <td> 11</td>\n",
        "    </tr>\n",
        "  </tbody>\n",
        "</table>\n",
        "</div>"
       ],
       "metadata": {},
       "output_type": "pyout",
       "prompt_number": 95,
       "text": [
        "                       id                                               text  \\\n",
        "11809  553750690896437248  RT @VW: Course preview of the 2015 #CXNats tra...   \n",
        "11808  553750738979926016  Hot dog! @muddylegs take #CXnats win! Can I he...   \n",
        "11807  553750762040590337  RT @One2Go_Results: 2015 @USACycling Cross Nat...   \n",
        "11806  553750888410382336  RT @BTBcxTV: Live webcast of @usacycling #CXna...   \n",
        "11805  553750965703041024  Evening pin up session.  Lots of energy and ex...   \n",
        "\n",
        "                timestamp  num_retweets  values  day  hour  \n",
        "11809 2015-01-10 11:10:27            54       0   10    11  \n",
        "11808 2015-01-10 11:10:39             0       2   10    11  \n",
        "11807 2015-01-10 11:10:44             5       0   10    11  \n",
        "11806 2015-01-10 11:11:14            23       2   10    11  \n",
        "11805 2015-01-10 11:11:33             3       3   10    11  "
       ]
      }
     ],
     "prompt_number": 95
    },
    {
     "cell_type": "code",
     "collapsed": false,
     "input": [
      "dayhourgroup = time_sort_day.groupby(by=[time_sort_day.day, time_sort_day.hour])"
     ],
     "language": "python",
     "metadata": {},
     "outputs": [],
     "prompt_number": 97
    },
    {
     "cell_type": "code",
     "collapsed": false,
     "input": [
      "sentiment_sums = dayhourgroup.values.sum()\n",
      "sentiment_sums.head()"
     ],
     "language": "python",
     "metadata": {},
     "outputs": [
      {
       "metadata": {},
       "output_type": "pyout",
       "prompt_number": 105,
       "text": [
        "day  hour\n",
        "10   11      76\n",
        "     12      50\n",
        "     13      10\n",
        "     14      37\n",
        "     15       4\n",
        "Name: values, dtype: float64"
       ]
      }
     ],
     "prompt_number": 105
    },
    {
     "cell_type": "code",
     "collapsed": false,
     "input": [
      "sentiment_sums.plot(sentiment_sums.values, kind='bar')"
     ],
     "language": "python",
     "metadata": {},
     "outputs": [
      {
       "metadata": {},
       "output_type": "pyout",
       "prompt_number": 106,
       "text": [
        "<matplotlib.axes.AxesSubplot at 0x10fdd4350>"
       ]
      }
     ],
     "prompt_number": 106
    },
    {
     "cell_type": "code",
     "collapsed": false,
     "input": [
      "tweet_count = dayhourgroup.id.count()"
     ],
     "language": "python",
     "metadata": {},
     "outputs": [],
     "prompt_number": 111
    },
    {
     "cell_type": "code",
     "collapsed": false,
     "input": [
      "plot(dayhourgroup.id.count())"
     ],
     "language": "python",
     "metadata": {},
     "outputs": [
      {
       "metadata": {},
       "output_type": "pyout",
       "prompt_number": 114,
       "text": [
        "[<matplotlib.lines.Line2D at 0x114d0a6d0>]"
       ]
      }
     ],
     "prompt_number": 114
    },
    {
     "cell_type": "code",
     "collapsed": false,
     "input": [],
     "language": "python",
     "metadata": {},
     "outputs": []
    }
   ],
   "metadata": {}
  }
 ]
}